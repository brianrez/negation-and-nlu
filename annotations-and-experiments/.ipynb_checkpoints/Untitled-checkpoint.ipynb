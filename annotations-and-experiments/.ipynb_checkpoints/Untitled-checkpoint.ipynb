{
 "cells": [
  {
   "cell_type": "code",
   "execution_count": null,
   "id": "8b9c3610-8618-4f2f-94f4-23b90064ef13",
   "metadata": {},
   "outputs": [],
   "source": [
    "from sklearn.metrics import accuracy_score, classification_report\n",
    "\n",
    "def wsc(self):\n",
    "    labels = [1 if instance['label'] is True else 0 for instance in self.data]\n",
    "    # Get all \n",
    "    self.results_str += f'All data: {accuracy_score(labels, self.preds[\"wsc\"][\"preds\"])}\\n'\n",
    "    self.results_str += f'All data: {classification_report(labels, self.preds[\"wsc\"][\"preds\"])}\\n'\n",
    "    \n",
    "    # Get indices of important and not important negations\n",
    "    import csv\n",
    "    data = []\n",
    "    # Replace 'file_path.tsv' with your TSV file's path\n",
    "    with open('./annotations/important-unimportant/wsc.tsv', 'r', newline='') as file:\n",
    "        reader = csv.reader(file, delimiter='\\t')\n",
    "        for row in reader:\n",
    "            data.append(row)\n",
    "\n",
    "    data = data[1:]\n",
    "    \n",
    "    for row in data:\n",
    "        if row[6] == \"Yes\":\n",
    "            self.import_neg_indices.append(row[1])\n",
    "        else:\n",
    "            self.not_import_neg_indices.append(row[1])\n",
    "        self.neg_indices.append(row[1])\n",
    "    self.non_neg_indices = [i for i in range(len(labels)) if i not in self.neg_indices]\n",
    "\n",
    "    assert len(self.neg_indices) == len(data)\n",
    "\n",
    "\n",
    "    def index_to_metrics(indices, setting):\n",
    "        new_labels = []\n",
    "        new_preds = []\n",
    "        for index in indices:\n",
    "            new_labels.append(labels[int(index)])\n",
    "            new_preds.append(self.preds['wsc']['preds'][int(index)])\n",
    "        self.results_str += f'{setting}: {accuracy_score(new_labels, new_preds)}\\n'\n",
    "        self.results_str += f'{setting}: {classification_report(new_labels, new_preds)}\\n'\n",
    "\n",
    "    # Get indices of non-negations\n",
    "    self.non_neg_indices = [i for i in range(len(labels)) if i not in self.neg_indices]\n",
    "    index_to_metrics(self.neg_indices, 'W/ negation')\n",
    "    index_to_metrics(self.non_neg_indices, 'W/O negation')\n",
    "    if len(self.import_neg_indices) > 0:\n",
    "        index_to_metrics(self.import_neg_indices, 'W/ negation and important')\n",
    "    else:\n",
    "        self.results_str += 'W/ negation and important: No data\\n'\n",
    "    index_to_metrics(self.not_import_neg_indices, 'W/ negation and not important')\n",
    "\n"
   ]
  }
 ],
 "metadata": {
  "kernelspec": {
   "display_name": "Python 3 (ipykernel)",
   "language": "python",
   "name": "python3"
  },
  "language_info": {
   "name": ""
  }
 },
 "nbformat": 4,
 "nbformat_minor": 5
}
